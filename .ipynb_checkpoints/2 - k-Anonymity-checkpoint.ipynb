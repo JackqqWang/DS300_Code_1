{
 "cells": [
  {
   "cell_type": "markdown",
   "metadata": {},
   "source": [
    "# $k$-Anonymity\n",
    "\n",
    "$k$-Anonymity is the first formal privacy definition we have seen. The definition of $k$-Anonymity is designed to formalize our intuition that a piece of auxiliary information should not narrow down the set of possible records for an individual \"too much.\" Stated another way, $k$-Anonymity is designed to ensure that each individual can \"blend into the crowd.\"\n",
    "\n",
    "Informally, we say that that a dataset is \"$k$-Anonyized\" for a particular $k$ if each individual in the dataset is a member of a group of size at least $k$, such that each member of the group shares the same *quasi-identifiers* (a selected subset of all the dataset's columns) with all other members of the group. Thus, the individuals in each group \"blend into\" their group - it's possible to narrow down an individual to membership in a particular group, but not to determine which group member is the target.\n",
    "\n",
    "More formally, we say that a dataset $D$ satisfies $k$-Anonymity for a value of $k$ if:\n",
    "\n",
    "- For each row $r_1 \\in D$, there exist at least $k-1$ other rows $r_2 \\dots r_k \\in D$ such that $\\Pi_{qi(D)} r_1 = \\Pi_{qi(D)} r_2, \\dots, \\Pi_{qi(D)} r_1 = \\Pi_{qi(D)} r_k$\n",
    "\n",
    "where $qi(D)$ is the quasi-identifiers of $D$, and $\\Pi_{qi(D)} r$ represents the columns of $r$ containing quasi-identifiers (i.e. the projection of the quasi-identifiers)."
   ]
  },
  {
   "cell_type": "markdown",
   "metadata": {},
   "source": [
    "## Checking for $k$-Anonymity"
   ]
  },
  {
   "cell_type": "markdown",
   "metadata": {},
   "source": [
    "We'll start with a small dataset, so that we can immediately see by looking at the data whether it satisfies $k$-Anonymity or not. This dataset contains age plus two test scores; it clearly doesn't satisfy $k$-Anonymity for $k > 1$. Any dataset trivially satisfies $k$-Anonymity for $k = 1$, since each row can form its own group of size 1."
   ]
  },
  {
   "cell_type": "code",
   "execution_count": null,
   "metadata": {},
   "outputs": [],
   "source": [
    "import pandas as pd\n",
    "import numpy as np\n",
    "import matplotlib.pyplot as plt\n",
    "plt.style.use('seaborn-whitegrid')"
   ]
  },
  {
   "cell_type": "code",
   "execution_count": null,
   "metadata": {},
   "outputs": [],
   "source": [
    "raw_data = {\n",
    "    'first_name': ['Jason', 'Molly', 'Tina', 'Jake', 'Amy'], \n",
    "    'last_name': ['Miller', 'Jacobson', 'Ali', 'Milner', 'Cooze'], \n",
    "    'age': [42, 52, 36, 24, 73], \n",
    "    'preTestScore': [4, 24, 31, 2, 3],\n",
    "    'postTestScore': [25, 94, 57, 62, 70]}\n",
    "#df = pd.DataFrame(raw_data, columns = ['first_name', 'last_name', 'age', 'preTestScore', 'postTestScore'])\n",
    "df = pd.DataFrame(raw_data, columns = ['age', 'preTestScore', 'postTestScore'])\n",
    "df"
   ]
  },
  {
   "cell_type": "code",
   "execution_count": null,
   "metadata": {},
   "outputs": [],
   "source": [
    "df"
   ]
  },
  {
   "cell_type": "markdown",
   "metadata": {},
   "source": [
    "To implement a function to check whether a dataframe satisfies $k$-Anonymity, we loop over the rows; for each row, we query the dataframe to see how many rows match its values for the quasi-identifiers. If the number of rows in any group is less than $k$, the dataframe does not satisfy $k$-Anonymity for that value of $k$, and we return False. Note that in this simple definition, we consider *all* columns to contain quasi-identifiers; to limit our check to a subset of all columns, we would need to replace the `df.columns` expression with something else."
   ]
  },
  {
   "cell_type": "code",
   "execution_count": null,
   "metadata": {
    "code_folding": []
   },
   "outputs": [],
   "source": [
    "def isKAnonymized(df, k):\n",
    "    for index, row in df.iterrows():\n",
    "        query = ' & '.join([f'{col} == {row[col]}' for col in df.columns])\n",
    "        rows = df.query(query)\n",
    "        if (rows.shape[0] < k):\n",
    "            return False\n",
    "        \n",
    "    return True"
   ]
  },
  {
   "cell_type": "markdown",
   "metadata": {},
   "source": [
    "As expected, our example dataframe does *not* satisfy $k$-Anonymity for $k = 2$, but it does satisfy the property for $k=1$."
   ]
  },
  {
   "cell_type": "code",
   "execution_count": null,
   "metadata": {},
   "outputs": [],
   "source": [
    "isKAnonymized(df, 1)"
   ]
  },
  {
   "cell_type": "code",
   "execution_count": null,
   "metadata": {},
   "outputs": [],
   "source": [
    "isKAnonymized(df, 2)"
   ]
  },
  {
   "cell_type": "markdown",
   "metadata": {},
   "source": [
    "## Generalizing Data to Satisfy $k$-Anonymity"
   ]
  },
  {
   "cell_type": "markdown",
   "metadata": {},
   "source": [
    "The process of modifying a dataset so that it satisfies $k$-Anonymity for a desired $k$ is generally accomplished by *generalizing* the data - modifying values to be less specific, and therefore more likely to match the values of other individuals in the dataset. For example, an age which is accurate to a year may be generalized by rounding to the nearest 10 years, or a ZIP code might have its rightmost digits replaced by zeros. For numeric values, this is easy to implement. We'll use the `apply` method of dataframes, and pass in a dictionary named `depths` which specifies how many digits to replace by zeros for each column. This gives us the flexibility to experiment with different levels of generalization for different columns."
   ]
  },
  {
   "cell_type": "code",
   "execution_count": null,
   "metadata": {},
   "outputs": [],
   "source": [
    "def generalize(df, depths):\n",
    "    return df.apply(lambda x: x.apply(lambda y: int(int(y/(10**depths[x.name]))*(10**depths[x.name]))))"
   ]
  },
  {
   "cell_type": "markdown",
   "metadata": {},
   "source": [
    "Now, we can generalize our example dataframe. First, we'll try generalizing each column by one \"level\" - i.e. rounding to the nearest 10."
   ]
  },
  {
   "cell_type": "code",
   "execution_count": null,
   "metadata": {},
   "outputs": [],
   "source": [
    "depths = {\n",
    "    'age': 1,\n",
    "    'preTestScore': 1,\n",
    "    'postTestScore': 1\n",
    "}\n",
    "df2 = generalize(df, depths)\n",
    "df2"
   ]
  },
  {
   "cell_type": "markdown",
   "metadata": {},
   "source": [
    "Notice that even after generalization, our example data *still* does not satisfy $k$-Anonymity for $k=2$."
   ]
  },
  {
   "cell_type": "code",
   "execution_count": null,
   "metadata": {},
   "outputs": [],
   "source": [
    "isKAnonymized(df2, 2)"
   ]
  },
  {
   "cell_type": "markdown",
   "metadata": {},
   "source": [
    "We can try generalizing more - but then we'll end up removing *all* of the data!"
   ]
  },
  {
   "cell_type": "code",
   "execution_count": null,
   "metadata": {},
   "outputs": [],
   "source": [
    "depths = {\n",
    "    'age': 2,\n",
    "    'preTestScore': 2,\n",
    "    'postTestScore': 2\n",
    "}\n",
    "generalize(df, depths)"
   ]
  },
  {
   "cell_type": "markdown",
   "metadata": {},
   "source": [
    "This example illustrates one of the key challenges of achieving $k$-Anonymity: often, achieving the property for meaningful values of $k$ requires removing quite a lot of information from the data."
   ]
  },
  {
   "cell_type": "markdown",
   "metadata": {},
   "source": [
    "## Does More Data Improve Generalization?"
   ]
  },
  {
   "cell_type": "markdown",
   "metadata": {},
   "source": [
    "Our example dataset is too small for $k$-Anonymity to work well. Because there are only 5 individuals in the dataset, building groups of 2 or more individuals who share the same properties is difficult. The solution to this problem is more data: in a dataset with more individuals, less generalization will typically be needed to satisfy $k$-Anonymity for a desired $k$.\n",
    "\n",
    "Let's try the same census data we examined for de-identification. This dataset contains more than 32,000 rows, so it should be easier to achieve $k$-Anonymity."
   ]
  },
  {
   "cell_type": "markdown",
   "metadata": {},
   "source": [
    "Add the dataset_path in the cell below <br>\n",
    "Example: dataset_path = \"/Users/pxu3/Desktop/FALL 2019/DS300/Lectures/DS300-master/adult_with_pii.csv\""
   ]
  },
  {
   "cell_type": "code",
   "execution_count": null,
   "metadata": {},
   "outputs": [],
   "source": [
    "adult_data = pd.read_csv(dataset_path)\n",
    "adult_data.head()"
   ]
  },
  {
   "cell_type": "markdown",
   "metadata": {},
   "source": [
    "We'll consider the age, and educational achievement of each individual to be the quasi-identifiers. We'll project just those columns, and try to achieve $k$-Anonymity for $k=2$. Of course, the data is $k$-Anonymous for $k=1$; notice that we take just the first 100 rows from the dataset for this check - try running `isKAnonymized` on a larger subset of the data, and you'll find that it takes a very long time. For $k=2$, our algorithm finds a failing row quickly and finishes fast."
   ]
  },
  {
   "cell_type": "code",
   "execution_count": null,
   "metadata": {},
   "outputs": [],
   "source": [
    "df = adult_data[['Age', 'Education-Num']]\n",
    "df.columns = ['age', 'edu']"
   ]
  },
  {
   "cell_type": "code",
   "execution_count": null,
   "metadata": {},
   "outputs": [],
   "source": [
    "isKAnonymized(df.head(100), 1)"
   ]
  },
  {
   "cell_type": "code",
   "execution_count": null,
   "metadata": {},
   "outputs": [],
   "source": [
    "isKAnonymized(df.head(100), 2)"
   ]
  },
  {
   "cell_type": "markdown",
   "metadata": {},
   "source": [
    "For example, running the $k=1$ check on 5000 rows takes about 20 seconds on my laptop."
   ]
  },
  {
   "cell_type": "code",
   "execution_count": null,
   "metadata": {},
   "outputs": [],
   "source": [
    "isKAnonymized(df.head(5000), 1)"
   ]
  },
  {
   "cell_type": "code",
   "execution_count": null,
   "metadata": {},
   "outputs": [],
   "source": [
    "from timeit import Timer\n",
    "t = Timer(lambda: isKAnonymized(df.head(10000), 1))\n",
    "print(t.timeit(number=1))"
   ]
  },
  {
   "cell_type": "markdown",
   "metadata": {},
   "source": [
    "Now, we'll try to generalize to achieve $k$-Anonymity for $k=2$. We'll start with generalizing both age and educational attainment to the nearest 10."
   ]
  },
  {
   "cell_type": "code",
   "execution_count": null,
   "metadata": {},
   "outputs": [],
   "source": [
    "# outliers are a real problem!\n",
    "depths = {\n",
    "    'age': 1,\n",
    "    'edu': 1\n",
    "}\n",
    "df2 = generalize(df.head(1000), depths)\n",
    "isKAnonymized(df2, 2)"
   ]
  },
  {
   "cell_type": "markdown",
   "metadata": {},
   "source": [
    "The generalized result still does not satisfy $k$-Anonymity for $k=2$! In fact, we can perform this generalization on all 32,000 rows and still fail to satisfy $k$-Anonymity for $k=2$ - so adding more data does not necessarily help as much as we expected.\n",
    "\n",
    "The reason is that the dataset contains *outliers* - individuals who are very different from the rest of the population. These individuals do not fit easily into any group, even after generalization. Even considering *only* ages, we can see that adding more data is not likely to help, since very low and very high ages are poorly represented in the dataset."
   ]
  },
  {
   "cell_type": "code",
   "execution_count": null,
   "metadata": {},
   "outputs": [],
   "source": [
    "df2['age'].hist();"
   ]
  },
  {
   "cell_type": "markdown",
   "metadata": {},
   "source": [
    "Achieving the optimal generalization for $k$-Anonymity is very challenging in cases like this. Generalizing each row *more* would be overkill for the well-represented individuals with ages in the 20-40 range, and would hurt utility. However, more generalization is clearly needed for individuals at the upper and lower ends of the age range. This is the kind of challenge that occurs regularly in practice, and is difficult to solve automatically. In fact, optimal generalization for $k$-Anonymity has been shown to be NP-hard."
   ]
  },
  {
   "cell_type": "markdown",
   "metadata": {},
   "source": [
    "## Removing Outliers"
   ]
  },
  {
   "cell_type": "markdown",
   "metadata": {},
   "source": [
    "One solution to this problem is simply to clip the age of each individual in the dataset to lie within a specific range, eliminating outliers entirely. This can also hurt utility, since it replaces real ages with fake ones, but it can be better than generalizing each row more. We can use Numpy's `clip` method to perform this clipping. We clip ages to be 60 or below, and leave educational levels alone (by clipping them to a very large value)."
   ]
  },
  {
   "cell_type": "code",
   "execution_count": null,
   "metadata": {},
   "outputs": [],
   "source": [
    "# clipping away outliers\n",
    "depths = {\n",
    "    'age': 1,\n",
    "    'edu': 1\n",
    "}\n",
    "dfp = df.clip(upper=np.array([60, 10000000000000]), axis='columns')\n",
    "df2 = generalize(dfp.head(500), depths)\n",
    "isKAnonymized(df2, 7)"
   ]
  },
  {
   "cell_type": "markdown",
   "metadata": {},
   "source": [
    "Now, the generalized dataset satisfies $k$-Anonymity for $k=7$! In other words, our level of generalization was appropriate, but outliers prevented us from achieving $k$-Anonymity before, even for $k=2$."
   ]
  },
  {
   "cell_type": "markdown",
   "metadata": {},
   "source": [
    "## Summary"
   ]
  },
  {
   "cell_type": "markdown",
   "metadata": {},
   "source": [
    "- $k$-Anonymity is a property of data, which ensures that each individual \"blends in\" with a group of at least $k$ individuals.\n",
    "- $k$-Anonymity is computationally expensive even to check: the naive algorithm is $O(n^2)$, and faster algorithms take considerable space.\n",
    "- $k$-Anonymity can be achieved by modifying a dataset by *generalizing* it, so that particular values become more common and groups are easier to form.\n",
    "- Optimal generalization is extremely difficult, and outliers can make it even more challenging. Solving this problem automatically is NP-hard."
   ]
  }
 ],
 "metadata": {
  "kernelspec": {
   "display_name": "Python 3",
   "language": "python",
   "name": "python3"
  },
  "language_info": {
   "codemirror_mode": {
    "name": "ipython",
    "version": 3
   },
   "file_extension": ".py",
   "mimetype": "text/x-python",
   "name": "python",
   "nbconvert_exporter": "python",
   "pygments_lexer": "ipython3",
   "version": "3.6.4"
  }
 },
 "nbformat": 4,
 "nbformat_minor": 2
}
